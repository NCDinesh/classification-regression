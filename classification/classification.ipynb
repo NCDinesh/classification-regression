{
 "cells": [
  {
   "cell_type": "code",
   "execution_count": 1,
   "id": "fd0aeed7-0455-4e84-9911-b5b62adeeff2",
   "metadata": {},
   "outputs": [],
   "source": [
    "import numpy as np\n",
    "import pandas as pd\n",
    "import matplotlib.pyplot as plt\n",
    "import sklearn as sk\n",
    "import pickle"
   ]
  },
  {
   "cell_type": "code",
   "execution_count": 2,
   "id": "6d7f5180-4622-425b-a321-4ebd1cc481ee",
   "metadata": {},
   "outputs": [],
   "source": [
    "data = pd.read_csv('Heartattack.csv')\n"
   ]
  },
  {
   "cell_type": "code",
   "execution_count": 3,
   "id": "bcd8697c-f1ec-4512-9fff-36ed75b5a6f2",
   "metadata": {},
   "outputs": [
    {
     "data": {
      "text/html": [
       "<div>\n",
       "<style scoped>\n",
       "    .dataframe tbody tr th:only-of-type {\n",
       "        vertical-align: middle;\n",
       "    }\n",
       "\n",
       "    .dataframe tbody tr th {\n",
       "        vertical-align: top;\n",
       "    }\n",
       "\n",
       "    .dataframe thead th {\n",
       "        text-align: right;\n",
       "    }\n",
       "</style>\n",
       "<table border=\"1\" class=\"dataframe\">\n",
       "  <thead>\n",
       "    <tr style=\"text-align: right;\">\n",
       "      <th></th>\n",
       "      <th>age</th>\n",
       "      <th>gender</th>\n",
       "      <th>impluse</th>\n",
       "      <th>pressurehight</th>\n",
       "      <th>pressurelow</th>\n",
       "      <th>glucose</th>\n",
       "      <th>kcm</th>\n",
       "      <th>troponin</th>\n",
       "      <th>class</th>\n",
       "    </tr>\n",
       "  </thead>\n",
       "  <tbody>\n",
       "    <tr>\n",
       "      <th>0</th>\n",
       "      <td>64</td>\n",
       "      <td>1</td>\n",
       "      <td>66</td>\n",
       "      <td>160</td>\n",
       "      <td>83</td>\n",
       "      <td>160.0</td>\n",
       "      <td>1.80</td>\n",
       "      <td>0.012</td>\n",
       "      <td>negative</td>\n",
       "    </tr>\n",
       "    <tr>\n",
       "      <th>1</th>\n",
       "      <td>21</td>\n",
       "      <td>1</td>\n",
       "      <td>94</td>\n",
       "      <td>98</td>\n",
       "      <td>46</td>\n",
       "      <td>296.0</td>\n",
       "      <td>6.75</td>\n",
       "      <td>1.060</td>\n",
       "      <td>positive</td>\n",
       "    </tr>\n",
       "    <tr>\n",
       "      <th>2</th>\n",
       "      <td>55</td>\n",
       "      <td>1</td>\n",
       "      <td>64</td>\n",
       "      <td>160</td>\n",
       "      <td>77</td>\n",
       "      <td>270.0</td>\n",
       "      <td>1.99</td>\n",
       "      <td>0.003</td>\n",
       "      <td>negative</td>\n",
       "    </tr>\n",
       "    <tr>\n",
       "      <th>3</th>\n",
       "      <td>64</td>\n",
       "      <td>1</td>\n",
       "      <td>70</td>\n",
       "      <td>120</td>\n",
       "      <td>55</td>\n",
       "      <td>270.0</td>\n",
       "      <td>13.87</td>\n",
       "      <td>0.122</td>\n",
       "      <td>positive</td>\n",
       "    </tr>\n",
       "    <tr>\n",
       "      <th>4</th>\n",
       "      <td>55</td>\n",
       "      <td>1</td>\n",
       "      <td>64</td>\n",
       "      <td>112</td>\n",
       "      <td>65</td>\n",
       "      <td>300.0</td>\n",
       "      <td>1.08</td>\n",
       "      <td>0.003</td>\n",
       "      <td>negative</td>\n",
       "    </tr>\n",
       "  </tbody>\n",
       "</table>\n",
       "</div>"
      ],
      "text/plain": [
       "   age  gender  impluse  pressurehight  pressurelow  glucose    kcm  troponin  \\\n",
       "0   64       1       66            160           83    160.0   1.80     0.012   \n",
       "1   21       1       94             98           46    296.0   6.75     1.060   \n",
       "2   55       1       64            160           77    270.0   1.99     0.003   \n",
       "3   64       1       70            120           55    270.0  13.87     0.122   \n",
       "4   55       1       64            112           65    300.0   1.08     0.003   \n",
       "\n",
       "      class  \n",
       "0  negative  \n",
       "1  positive  \n",
       "2  negative  \n",
       "3  positive  \n",
       "4  negative  "
      ]
     },
     "execution_count": 3,
     "metadata": {},
     "output_type": "execute_result"
    }
   ],
   "source": [
    "data.head()\n"
   ]
  },
  {
   "cell_type": "code",
   "execution_count": 4,
   "id": "2772b0d9-e502-4d41-a72b-6eb564b7bf26",
   "metadata": {},
   "outputs": [],
   "source": [
    "X = data.drop(columns=['class'])  # Features (all columns except 'class')\n",
    "y = data['class']  # Target variable\n"
   ]
  },
  {
   "cell_type": "code",
   "execution_count": 5,
   "id": "68762417-ba14-46b2-8e28-3b39a6e868c6",
   "metadata": {},
   "outputs": [],
   "source": [
    "from sklearn.model_selection import train_test_split\n",
    "from sklearn.tree import DecisionTreeClassifier \n",
    "from sklearn.naive_bayes import GaussianNB\n",
    "from sklearn.neighbors import KNeighborsClassifier\n",
    "from sklearn.neural_network import MLPClassifier\n",
    "from sklearn.svm import SVC\n",
    "from sklearn.metrics import classification_report\n",
    "from sklearn.metrics import accuracy_score, precision_score, recall_score , f1_score\n",
    "from sklearn.metrics import confusion_matrix, ConfusionMatrixDisplay\n",
    "from sklearn.preprocessing import StandardScaler\n"
   ]
  },
  {
   "cell_type": "code",
   "execution_count": 6,
   "id": "31ddc8b6-e721-4fca-ace3-bc32698d4137",
   "metadata": {},
   "outputs": [
    {
     "name": "stdout",
     "output_type": "stream",
     "text": [
      "Shape of X_train (1055, 8)\n",
      "Shape of  y_train (1055,)\n",
      "Shape of X_test(264, 8)\n",
      "Shape of y_test (264,)\n"
     ]
    }
   ],
   "source": [
    "X_train , X_test , y_train , y_test = train_test_split(X,y,test_size=0.2 , random_state=42)\n",
    "print(f'Shape of X_train {X_train.shape}')\n",
    "print(f'Shape of  y_train {y_train.shape}')\n",
    "print(f'Shape of X_test{X_test.shape}')\n",
    "print(f'Shape of y_test {y_test.shape}')\n"
   ]
  },
  {
   "cell_type": "code",
   "execution_count": 7,
   "id": "cbf208a6-2fc7-4640-8584-8510be36d6e1",
   "metadata": {},
   "outputs": [
    {
     "name": "stdout",
     "output_type": "stream",
     "text": [
      "97.72727272727273\n"
     ]
    }
   ],
   "source": [
    "# Decision Tree\n",
    "cart = DecisionTreeClassifier()\n",
    "cart.fit(X_train , y_train)\n",
    "y_preds = cart.predict(X_test)\n",
    "print(accuracy_score(y_test ,y_preds)*100)"
   ]
  },
  {
   "cell_type": "code",
   "execution_count": 8,
   "id": "47682517-e1f2-4a0f-84de-5a80946cc7c5",
   "metadata": {},
   "outputs": [
    {
     "data": {
      "image/png": "[encoded data removed]",
      "text/plain": [
       "<Figure size 640x480 with 2 Axes>"
      ]
     },
     "metadata": {},
     "output_type": "display_data"
    }
   ],
   "source": [
    "cm= confusion_matrix (y_test , y_preds)\n",
    "cm_plot = ConfusionMatrixDisplay(cm)\n",
    "cm_plot.plot()\n",
    "plt.savefig('cm-decisiontree.png')"
   ]
  },
  {
   "cell_type": "code",
   "execution_count": 9,
   "id": "b75b442f-5ea2-4d05-9e03-0038345c7166",
   "metadata": {},
   "outputs": [
    {
     "name": "stdout",
     "output_type": "stream",
     "text": [
      "              precision    recall  f1-score   support\n",
      "\n",
      "    negative       0.97      0.97      0.97       101\n",
      "    positive       0.98      0.98      0.98       163\n",
      "\n",
      "    accuracy                           0.98       264\n",
      "   macro avg       0.98      0.98      0.98       264\n",
      "weighted avg       0.98      0.98      0.98       264\n",
      "\n"
     ]
    }
   ],
   "source": [
    "cr = classification_report(y_test, y_preds)\n",
    "print(cr)"
   ]
  },
  {
   "cell_type": "code",
   "execution_count": 10,
   "id": "78535819-a5fc-4d94-a052-2cb639512cdd",
   "metadata": {},
   "outputs": [
    {
     "name": "stdout",
     "output_type": "stream",
     "text": [
      "78.78787878787878\n"
     ]
    }
   ],
   "source": [
    "#Naive_bayes Classifier\n",
    "gnb = GaussianNB()\n",
    "gnb.fit(X_train,y_train)\n",
    "y_preds = gnb.predict(X_test)\n",
    "print(accuracy_score(y_test ,y_preds)*100)"
   ]
  },
  {
   "cell_type": "code",
   "execution_count": 11,
   "id": "93da026c-5189-4e25-8e42-efa6b5cd96df",
   "metadata": {},
   "outputs": [
    {
     "data": {
      "image/png": "[encoded data removed]",
      "text/plain": [
       "<Figure size 640x480 with 2 Axes>"
      ]
     },
     "metadata": {},
     "output_type": "display_data"
    }
   ],
   "source": [
    "cm= confusion_matrix (y_test , y_preds)\n",
    "cm_plot = ConfusionMatrixDisplay(cm)\n",
    "cm_plot.plot()\n",
    "plt.savefig('cm-naivebayes.png')"
   ]
  },
  {
   "cell_type": "code",
   "execution_count": 12,
   "id": "55dab5cd-8dc2-4e0e-950e-fcc30840c7ec",
   "metadata": {},
   "outputs": [
    {
     "name": "stdout",
     "output_type": "stream",
     "text": [
      "62.121212121212125\n"
     ]
    }
   ],
   "source": [
    "# SVM \n",
    "svm= SVC(gamma=\"auto\")\n",
    "svm.fit(X_train,y_train)\n",
    "y_preds = svm.predict(X_test)\n",
    "print(accuracy_score(y_test ,y_preds)*100)"
   ]
  },
  {
   "cell_type": "code",
   "execution_count": 13,
   "id": "ac0dfa3f-bbef-49dd-9d1a-ea2f3372ed08",
   "metadata": {},
   "outputs": [
    {
     "data": {
      "image/png": "[encoded data removed]",
      "text/plain": [
       "<Figure size 640x480 with 2 Axes>"
      ]
     },
     "metadata": {},
     "output_type": "display_data"
    }
   ],
   "source": [
    "cm= confusion_matrix (y_test , y_preds)\n",
    "cm_plot = ConfusionMatrixDisplay(cm)\n",
    "cm_plot.plot()\n",
    "plt.savefig('cm-svm.png')"
   ]
  },
  {
   "cell_type": "code",
   "execution_count": 14,
   "id": "86ddf92e-b7d7-4938-8a4a-7700ff74df16",
   "metadata": {},
   "outputs": [
    {
     "name": "stdout",
     "output_type": "stream",
     "text": [
      "75.37878787878788\n"
     ]
    }
   ],
   "source": [
    "# Artificial Neural Network\n",
    "mlp= MLPClassifier(hidden_layer_sizes =(150,100,150) , max_iter=300, activation ='relu', solver='adam', random_state=42)\n",
    "mlp.fit(X_train,y_train)\n",
    "y_preds =mlp.predict(X_test)\n",
    "print(accuracy_score(y_test ,y_preds)*100)"
   ]
  },
  {
   "cell_type": "code",
   "execution_count": 15,
   "id": "a0d9e07d-b2c9-45e0-acfe-9a8792132d7d",
   "metadata": {},
   "outputs": [
    {
     "data": {
      "image/png": "[encoded data removed]",
      "text/plain": [
       "<Figure size 640x480 with 2 Axes>"
      ]
     },
     "metadata": {},
     "output_type": "display_data"
    }
   ],
   "source": [
    "cm= confusion_matrix (y_test , y_preds)\n",
    "cm_plot = ConfusionMatrixDisplay(cm)\n",
    "cm_plot.plot()\n",
    "plt.savefig('cm-ANN.png')"
   ]
  },
  {
   "cell_type": "code",
   "execution_count": 25,
   "id": "d4c7a058-abf8-4084-83e3-c45530450741",
   "metadata": {},
   "outputs": [
    {
     "data": {
      "text/plain": [
       "(age               76.000\n",
       " gender             1.000\n",
       " impluse           73.000\n",
       " pressurehight    114.000\n",
       " pressurelow       68.000\n",
       " glucose          144.000\n",
       " kcm              297.500\n",
       " troponin           0.024\n",
       " Name: 677, dtype: float64,\n",
       " 'positive')"
      ]
     },
     "execution_count": 25,
     "metadata": {},
     "output_type": "execute_result"
    }
   ],
   "source": [
    "X_test.iloc[0],y_test.iloc[0]"
   ]
  },
  {
   "cell_type": "code",
   "execution_count": 28,
   "id": "a1aaf71e-dbf1-4a31-b732-49a5db31a71b",
   "metadata": {},
   "outputs": [
    {
     "name": "stdout",
     "output_type": "stream",
     "text": [
      "positive\n"
     ]
    },
    {
     "name": "stderr",
     "output_type": "stream",
     "text": [
      "C:\\Users\\deene\\AppData\\Local\\Programs\\Python\\Python311\\Lib\\site-packages\\sklearn\\base.py:465: UserWarning: X does not have valid feature names, but DecisionTreeClassifier was fitted with feature names\n",
      "  warnings.warn(\n"
     ]
    }
   ],
   "source": [
    "answer = cart.predict([[76,1,73,114,68,144,297,0.024]])\n",
    "print(answer[0])"
   ]
  },
  {
   "cell_type": "code",
   "execution_count": 30,
   "id": "8c4c9fe2-d826-4ec0-aa20-b444b917880f",
   "metadata": {},
   "outputs": [],
   "source": [
    "with open('classification.pkl', 'wb') as file:\n",
    "    pickle.dump(cart, file)"
   ]
  },
  {
   "cell_type": "code",
   "execution_count": null,
   "id": "dcd55817-84c4-4826-8681-ffb87e18dce8",
   "metadata": {},
   "outputs": [],
   "source": []
  }
 ],
 "metadata": {
  "kernelspec": {
   "display_name": "Python 3 (ipykernel)",
   "language": "python",
   "name": "python3"
  },
  "language_info": {
   "codemirror_mode": {
    "name": "ipython",
    "version": 3
   },
   "file_extension": ".py",
   "mimetype": "text/x-python",
   "name": "python",
   "nbconvert_exporter": "python",
   "pygments_lexer": "ipython3",
   "version": "3.11.1"
  }
 },
 "nbformat": 4,
 "nbformat_minor": 5
}
